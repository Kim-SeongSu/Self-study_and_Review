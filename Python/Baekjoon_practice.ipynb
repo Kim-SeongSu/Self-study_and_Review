{
  "nbformat": 4,
  "nbformat_minor": 0,
  "metadata": {
    "colab": {
      "name": "Baekjoon_practice.ipynb",
      "provenance": [],
      "authorship_tag": "ABX9TyPMjYRSGCMY8LN7emFRfzUA",
      "include_colab_link": true
    },
    "kernelspec": {
      "name": "python3",
      "display_name": "Python 3"
    },
    "language_info": {
      "name": "python"
    }
  },
  "cells": [
    {
      "cell_type": "markdown",
      "metadata": {
        "id": "view-in-github",
        "colab_type": "text"
      },
      "source": [
        "<a href=\"https://colab.research.google.com/github/Kim-SeongSu/TIL/blob/main/Baekjoon_practice.ipynb\" target=\"_parent\"><img src=\"https://colab.research.google.com/assets/colab-badge.svg\" alt=\"Open In Colab\"/></a>"
      ]
    },
    {
      "cell_type": "markdown",
      "source": [
        "5월6일"
      ],
      "metadata": {
        "id": "EYvEnzanOidS"
      }
    },
    {
      "cell_type": "code",
      "source": [
        "#2741 N 찍기\n",
        "N = int(input())\n",
        "\n",
        "for i in range(1,N+1):\n",
        "  print(i)"
      ],
      "metadata": {
        "colab": {
          "base_uri": "https://localhost:8080/"
        },
        "id": "jpHi090RFlxe",
        "outputId": "96b3efcf-1cd3-474c-c99c-b5593fd0edd5"
      },
      "execution_count": 38,
      "outputs": [
        {
          "output_type": "stream",
          "name": "stdout",
          "text": [
            "4\n",
            "1\n",
            "2\n",
            "3\n",
            "4\n"
          ]
        }
      ]
    },
    {
      "cell_type": "markdown",
      "source": [
        "5월7일"
      ],
      "metadata": {
        "id": "lyTJJH9aOnuv"
      }
    },
    {
      "cell_type": "code",
      "execution_count": null,
      "metadata": {
        "colab": {
          "base_uri": "https://localhost:8080/"
        },
        "id": "vvPFX1IrJauI",
        "outputId": "ffaef7dc-fedd-435c-c150-9acd690c4756"
      },
      "outputs": [
        {
          "output_type": "stream",
          "name": "stdout",
          "text": [
            "4\n",
            "4\n",
            "3\n",
            "2\n",
            "1\n"
          ]
        }
      ],
      "source": [
        "# 2742\n",
        "N = int(input())\n",
        "list = []\n",
        "\n",
        "for i in range(1,N+1):\n",
        "  list.insert(0,i)\n",
        "for i in range(1,N+1):\n",
        "  print(list[i-1])"
      ]
    },
    {
      "cell_type": "code",
      "source": [
        "# 11021\n",
        "T = int(input())\n",
        "list = []\n",
        "\n",
        "for i in range(1,T+1):\n",
        "  A,B = map(int,input().split( ))\n",
        "  list.append(A+B)\n",
        "for i in range(1,T+1):\n",
        "  print(f'Case #{i}: {list[i-1]}')"
      ],
      "metadata": {
        "colab": {
          "base_uri": "https://localhost:8080/"
        },
        "id": "4QD6SlKpzxBc",
        "outputId": "a6ebab8b-aee5-4785-b59e-6953fcacb6d0"
      },
      "execution_count": null,
      "outputs": [
        {
          "output_type": "stream",
          "name": "stdout",
          "text": [
            "1\n",
            "1 5\n",
            "Case #1: 6\n"
          ]
        }
      ]
    },
    {
      "cell_type": "code",
      "source": [
        "# 11022\n",
        "T = int(input())\n",
        "list = []\n",
        "\n",
        "for i in range(1,T+1):\n",
        "  A,B = map(int,input().split( ))\n",
        "  C = A+B\n",
        "  list.append([A,B,C])\n",
        "for i in range(1,T+1):\n",
        "  print(f'Case #{i}: {list[i-1][0]} + {list[i-1][1]} = {list[i-1][2]}')"
      ],
      "metadata": {
        "colab": {
          "base_uri": "https://localhost:8080/"
        },
        "id": "mQlSWtSe2iK5",
        "outputId": "ef5c46fd-bfa3-4020-d398-a9102cf4305d"
      },
      "execution_count": null,
      "outputs": [
        {
          "output_type": "stream",
          "name": "stdout",
          "text": [
            "5\n",
            "1 1\n",
            "2 3\n",
            "3 4\n",
            "9 8\n",
            "5 2\n",
            "Case #1:  1 + 1 = 2\n",
            "Case #2:  2 + 3 = 5\n",
            "Case #3:  3 + 4 = 7\n",
            "Case #4:  9 + 8 = 17\n",
            "Case #5:  5 + 2 = 7\n"
          ]
        }
      ]
    },
    {
      "cell_type": "markdown",
      "source": [
        "5월8일"
      ],
      "metadata": {
        "id": "m0z2qQW2OqRM"
      }
    },
    {
      "cell_type": "code",
      "source": [
        "# 2438\n",
        "N = int(input())\n",
        "\n",
        "for i in range(1,N+1):\n",
        "  print('*'*i)"
      ],
      "metadata": {
        "colab": {
          "base_uri": "https://localhost:8080/"
        },
        "id": "UyX08xNYSre_",
        "outputId": "e8c5b775-a1a0-4054-f0c7-400e5d93ea9d"
      },
      "execution_count": 3,
      "outputs": [
        {
          "output_type": "stream",
          "name": "stdout",
          "text": [
            "5\n",
            "*\n",
            "**\n",
            "***\n",
            "****\n",
            "*****\n"
          ]
        }
      ]
    },
    {
      "cell_type": "code",
      "source": [
        "# 2439\n",
        "N = int(input())\n",
        "for i in range(1,N+1):\n",
        "  print(' '*int(N-i)+'*'*int(i))"
      ],
      "metadata": {
        "colab": {
          "base_uri": "https://localhost:8080/"
        },
        "id": "jQAqdpOBTU3u",
        "outputId": "be062837-4bdd-428f-88a9-6c08503040b1"
      },
      "execution_count": 37,
      "outputs": [
        {
          "output_type": "stream",
          "name": "stdout",
          "text": [
            "5\n",
            "    *\n",
            "   **\n",
            "  ***\n",
            " ****\n",
            "*****\n"
          ]
        }
      ]
    }
  ]
}
