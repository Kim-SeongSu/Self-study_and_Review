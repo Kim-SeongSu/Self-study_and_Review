{
 "cells": [
  {
   "cell_type": "code",
   "execution_count": null,
   "metadata": {},
   "outputs": [
    {
     "name": "stdout",
     "output_type": "stream",
     "text": [
      "Case #1: 1 + 2 = 3\n",
      "Case #2: 3 + 4 = 7\n",
      "Case #3: 5 + 6 = 11\n"
     ]
    }
   ],
   "source": [
    "N = int(input())\n",
    "import sys\n",
    "integer_list = map(int,sys.stdin.readline().split())"
   ]
  },
  {
   "cell_type": "code",
   "execution_count": 1,
   "metadata": {},
   "outputs": [],
   "source": [
    "find_num = int(input())\n",
    "counts = 0"
   ]
  },
  {
   "cell_type": "code",
   "execution_count": null,
   "metadata": {},
   "outputs": [],
   "source": [
    "for x in integer_list:\n",
    "    if x == N:\n",
    "        counts += 1\n",
    "    else:\n",
    "        pass\n",
    "print(counts)"
   ]
  }
 ],
 "metadata": {
  "kernelspec": {
   "display_name": "Python 3.11.0 64-bit",
   "language": "python",
   "name": "python3"
  },
  "language_info": {
   "codemirror_mode": {
    "name": "ipython",
    "version": 3
   },
   "file_extension": ".py",
   "mimetype": "text/x-python",
   "name": "python",
   "nbconvert_exporter": "python",
   "pygments_lexer": "ipython3",
   "version": "3.11.0"
  },
  "orig_nbformat": 4,
  "vscode": {
   "interpreter": {
    "hash": "267de250dc7b602af0df60975b2aa2fc57dd0f6ff2dc06114f5c23ffecffa407"
   }
  }
 },
 "nbformat": 4,
 "nbformat_minor": 2
}
